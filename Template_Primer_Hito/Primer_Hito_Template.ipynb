{
 "cells": [
  {
   "cell_type": "markdown",
   "id": "047d525e",
   "metadata": {},
   "source": [
    "<p align=\"center\">\n",
    "    <img src=\"figuras/escudo_uach.png\" alt=\"UACh\" width=\"200\"/>\n",
    "</p>\n",
    "\n",
    "# Diseño de un Mini-Sintetizador en Python (Sintesis FM y RM)  \n",
    "\n",
    "### Primer Hito de Entrega  \n",
    "\n",
    "**Integrante:** Javier Vargas Muñoz"
   ]
  },
  {
   "cell_type": "markdown",
   "id": "00ce9095",
   "metadata": {},
   "source": [
    "## Objetivos del Proyecto  \n",
    "\n",
    "**Objetivo General:**  \n",
    "- Diseñar e implementar un mini-sintetizador digital en Python que permita generar sonidos a través de síntesis de modulación de frecuencia (FM) y síntesis de modulación en anillo (RM), con herramientas para experimentar con texturas metálicas, armónicos inusuales y la creación de samples musicales peculiares.  \n",
    "\n",
    "**Objetivos Específicos:**  \n",
    "- 1. Implementar osciladores básicos (senoidal, cuadrada, triangular, diente de sierra).  \n",
    "- 2. Programar un módulo de síntesis FM configurable (frecuencia portadora, moduladora e índice de modulación).  \n",
    "- 3. Programar un módulo de síntesis RM que combine dos señales para generar texturas metálicas.  \n",
    "- 4. Incorporar un generador de envolventes ADSR para modelar el comportamiento dinámico del sonido.  \n",
    "- 5. Implementar visualizaciones en tiempo y frecuencia de las señales generadas.  \n",
    "- 3. Programar un módulo de síntesis RM que combine dos señales para generar texturas metálicas.  \n",
    "- 3. Programar un módulo de síntesis RM que combine dos señales para generar texturas metálicas.  \n",
    "\n"
   ]
  },
  {
   "cell_type": "markdown",
   "id": "c2ba83cb",
   "metadata": {},
   "source": [
    "## Estado del Arte  \n",
    "\n",
    "- Síntesis FM: Popularizada en los años 80 por el Yamaha DX7, es capaz de generar timbres complejos a partir de osciladores sencillos, con énfasis en sonidos metálicos, eléctricos y brillantes.  \n",
    "- Síntesis RM (Ring Modulation): Técnica clásica en la música experimental y electroacústica, usada por compositores como Karlheinz Stockhausen y grupos como Kraftwerk para generar sonoridades metálicas e inarmónicas.  \n",
    "- Implementación digital: Librerías como NumPy, SciPy y Librosa permiten manipular señales y exportarlas fácilmente.  \n"
   ]
  },
  {
   "cell_type": "markdown",
   "id": "7cc17aa5",
   "metadata": {},
   "source": [
    "## Materiales y Métodos  \n",
    "\n",
    "### Materiales  \n",
    "**Librerías a utilizar en Python:**  \n",
    "- numpy: generación y manipulación de señales.  \n",
    "- scipy.signal: funciones auxiliares (ventanas, filtros, etc.).  \n",
    "- matplotlib: visualización en tiempo y frecuencia.  \n",
    "- librosa: análisis espectral y espectrogramas.  \n",
    "- IPython.display: reproducción de audio.  \n",
    "- soundfile: exportación de señales a WAV.  \n",
    "\n",
    "**Entorno de desarrollo:**  \n",
    "- Python 3.10  \n",
    "- Editor: Jupyter notebook (Anaconda, se esta trabajando en macOS) \n",
    "\n",
    "### Metodología  \n",
    "1. Generar ondas base: Se implementarán funciones con numpy para crear señales periódicas fundamentales (senoidal, cuadrada, triangular y diente de sierra), se usaran arrays de valores para ondas discretizadas y se verificara graficamente con matplotlib.\n",
    "\n",
    "2. Sintesis FM y RM: Se programarán módulos que combinen las ondas base mediante modulación de frecuencia (FM) y modulación en anillo (RM) con sus respectivos algoritmos en python. \n",
    "\n",
    "3. Creacion de ASDR: Se implementará una función de envolvente ADSR (Attack, Decay, Sustain, Release) que modifique la amplitud de la señal generada a lo largo del tiempo, se usara numpy para controlar las dinamicas.\n",
    "\n",
    "4. Analisis tiempo-frecuencia: Usando librosa y matplotlib se generará espectrogramas y Transformadas de Fourier (FFT) para visualizar el comportamiento espectral de los sonidos, observando como la modulacion e indice de modulacion afecta el timbre (distribucion de armonicos), permitiendo validar los resultados de forma visual.\n",
    "\n",
    "5. Exportación y documentación: Finalmente, las señales sintetizadas se exportarán en formato .wav utilizando la librería soundfile. Los resultados, gráficas, espectros y configuraciones de parámetros estaran en el informe, haciendo mas facil el análisis comparativo entre distintos ajustes de síntesis.\n",
    "\n",

    "\n",
    "**Ejemplo plan de trabajo:**  \n",
    "\n",
    "| Actividad                                           | Responsable(s)   | Fecha estimada |\n",
    "|-----------------------------------------------------|-----------------|----------------|\n",
    "| Revisión teórica y configuración del entorno        | Javier Vargas   | 10/10/2025     |\n",
    "| Implementación de osciladores básicos               | Javier Vargas   | 15/10/2025     |\n",
    "| Implementación de síntesis FM y RM                  | Javier Vargas   | 25/10/2025     |\n",
    "| Ajuste de parámetros y análisis sonoro              | Javier Vargas   | 10/11/2025     |\n",
    "| Exportación, pruebas e informe final                | Javier Vargas   | 20/11/2025     |  \n"
   ]
  },
  {
   "cell_type": "markdown",
   "id": "b1eb4b2e",
   "metadata": {},
   "source": [
    "## Referencias Bibliográficas  \n",
    "\n",
    "\n",
    "- Chowning, J. M. (1973). *The synthesis of complex audio spectra by means of frequency modulation. Journal of the Audio Engineering Society*.  \n",
    "- Roads, C. (1996). *The Computer Music Tutorial*. MIT Press.  \n",
    "- Dodge, C., & Jerse, T. (1997). *Computer Music: Synthesis, Composition, and Performance*. Schirmer.  \n",
    "- McFee, B. et al. (2015). *librosa: Audio and music signal analysis in Python*.  \n"
   ]
  },
  {
   "cell_type": "code",
   "execution_count": null,
   "id": "6976b888-1626-4d5a-bda1-70e82a47c291",
   "metadata": {},
   "outputs": [],
   "source": []
  }
 ],
 "metadata": {
  "kernelspec": {
   "display_name": "proyecto_1",
   "language": "python",
   "name": "proyecto_1"
  },
  "language_info": {
   "codemirror_mode": {
    "name": "ipython",
    "version": 3
   },
   "file_extension": ".py",
   "mimetype": "text/x-python",
   "name": "python",
   "nbconvert_exporter": "python",
   "pygments_lexer": "ipython3",
   "version": "3.11.13"
  }
 },
 "nbformat": 4,
 "nbformat_minor": 5
}
