{
 "cells": [
  {
   "cell_type": "markdown",
   "id": "047d525e",
   "metadata": {},
   "source": [
    "<p align=\"center\">\n",
    "    <img src=\"figuras/escudo_uach.png\" alt=\"UACh\" width=\"200\"/>\n",
    "    </p>\n",
    "\n",
    "# Diseño de un Mini-Sintetizador en Python (Sintesis FM y RM)  \n",
    "\n",
    "### Primer Hito de Entrega  \n",
    "\n",
    "**Integrante:** Javier Vargas Muñoz\n"
   ]
  },
  {
   "cell_type": "markdown",
   "id": "00ce9095",
   "metadata": {},
   "source": [
    "## Objetivos del Proyecto  \n",
    "\n",
    "**Objetivo General:**  \n",
    "- Diseñar e implementar un mini-sintetizador digital en Python que permita generar sonidos a través de síntesis de modulación de frecuencia (FM) y síntesis de modulación en anillo (RM), con herramientas para experimentar con texturas metálicas, armónicos inusuales y la creación de samples musicales peculiares.  \n",
    "\n",
    "**Objetivos Específicos:**  \n",
    "- 1. Implementar osciladores básicos (senoidal, cuadrada, triangular, diente de sierra).  \n",
    "- 2. Programar un módulo de síntesis FM configurable (frecuencia portadora, moduladora e índice de modulación).  \n",
    "- 3. Programar un módulo de síntesis RM que combine dos señales para generar texturas metálicas.  \n",
    "- 4. Incorporar un generador de envolventes ADSR para modelar el comportamiento dinámico del sonido.  \n",
    "- 5. Implementar visualizaciones en tiempo y frecuencia de las señales generadas.  \n",
    "- 3. Programar un módulo de síntesis RM que combine dos señales para generar texturas metálicas.  \n",
    "- 3. Programar un módulo de síntesis RM que combine dos señales para generar texturas metálicas.  \n",
    "\n",
   ]
  },
  {
   "cell_type": "markdown",
   "id": "c2ba83cb",
   "metadata": {},
   "source": [
    "## Estado del Arte  \n",
    "\n",
    "- Síntesis FM: Popularizada en los años 80 por el Yamaha DX7, es capaz de generar timbres complejos a partir de osciladores sencillos, con énfasis en sonidos metálicos, eléctricos y brillantes.  \n",
    "- Síntesis RM (Ring Modulation): Técnica clásica en la música experimental y electroacústica, usada por compositores como Karlheinz Stockhausen y grupos como Kraftwerk para generar sonoridades metálicas e inarmónicas.  \n",
    "- Implementación digital: Librerías como NumPy, SciPy y Librosa permiten manipular señales y exportarlas fácilmente.  \n"
   ]
  },
  {
   "cell_type": "markdown",
   "id": "7cc17aa5",
   "metadata": {},
   "source": [
    "## Materiales y Métodos  \n",
    "\n",
    "### Materiales  \n",
    "**Librerías a utilizar en Python:**  \n",
    "- numpy: generación y manipulación de señales.  \n",
    "- scipy.signal: funciones auxiliares (ventanas, filtros, etc.).  \n",
    "- matplotlib: visualización en tiempo y frecuencia.  \n",
    "- librosa: análisis espectral y espectrogramas.  \n",
    "- IPython.display: reproducción de audio.  \n",
    "- soundfile: exportación de señales a WAV.  \n",
    "\n",
    "### Metodología  \n",
    "Describir paso a paso cómo se abordará el problema.  \n",
    "\n",
    "**Ejemplo plan de trabajo:**  \n",
    "\n",
    "| Actividad                                           | Responsable(s)   | Fecha estimada |\n",
    "|-----------------------------------------------------|-----------------|----------------|\n",
    "| Revisión teórica y configuración del entorno        | Javier Vargas   | 10/10/2025     |\n",
    "| Implementación de osciladores básicos               | Javier Vargas   | 15/10/2025     |\n",
    "| Implementación de síntesis FM y RM                  | Javier Vargas   | 25/10/2025     |\n",
    "| Ajuste de parámetros y análisis sonoro              | Javier Vargas   | 10/11/2025     |\n",
    "| Exportación, pruebas e informe final                | Javier Vargas   | 20/11/2025     |  \n"
   ]
  },
  {
   "cell_type": "markdown",
   "id": "b1eb4b2e",
   "metadata": {},
   "source": [
    "## Referencias Bibliográficas  \n",
    "\n",
    "Ejemplos en formato APA:  \n",
    "\n",
    "- Chowning, J. M. (1973). *The synthesis of complex audio spectra by means of frequency modulation. Journal of the Audio Engineering Society*.  \n",
    "- Roads, C. (1996). *The Computer Music Tutorial*. MIT Press.  \n"
    "- Dodge, C., & Jerse, T. (1997). *Computer Music: Synthesis, Composition, and Performance*. Schirmer.  \n"
    "- McFee, B. et al. (2015). *librosa: Audio and music signal analysis in Python*.  \n"
   ]
  },
  {
   "cell_type": "code",
   "execution_count": null,
   "id": "6976b888-1626-4d5a-bda1-70e82a47c291",
   "metadata": {},
   "outputs": [],
   "source": []
  }
 ],
 "metadata": {
  "kernelspec": {
   "display_name": "proyecto_1",
   "language": "python",
   "name": "proyecto_1"
  },
  "language_info": {
   "codemirror_mode": {
    "name": "ipython",
    "version": 3
   },
   "file_extension": ".py",
   "mimetype": "text/x-python",
   "name": "python",
   "nbconvert_exporter": "python",
   "pygments_lexer": "ipython3",
   "version": "3.11.13"
  }
 },
 "nbformat": 4,
 "nbformat_minor": 5
}
